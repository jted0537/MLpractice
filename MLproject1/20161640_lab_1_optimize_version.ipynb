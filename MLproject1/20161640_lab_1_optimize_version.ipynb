{
 "cells": [
  {
   "cell_type": "markdown",
   "metadata": {},
   "source": [
    "# 연습문제\n",
    "\n",
    "\n",
    "## numpy\n",
    "\n",
    "python에서 array등을 다루는 수학/과학 컴퓨팅을 하기 위한 패키지\n",
    "\n",
    "## matplotlib\n",
    "\n",
    "python에서 matlab과 유사한 그래프 표시를 가능하게 하는 패키지"
   ]
  },
  {
   "cell_type": "code",
   "execution_count": 1,
   "metadata": {},
   "outputs": [
    {
     "name": "stdout",
     "output_type": "stream",
     "text": [
      "Requirement already satisfied: numpy in /Users/donghyuk/opt/anaconda3/lib/python3.8/site-packages (1.19.2)\n",
      "Requirement already satisfied: matplotlib in /Users/donghyuk/opt/anaconda3/lib/python3.8/site-packages (3.3.2)\n",
      "Requirement already satisfied: python-dateutil>=2.1 in /Users/donghyuk/opt/anaconda3/lib/python3.8/site-packages (from matplotlib) (2.8.1)\n",
      "Requirement already satisfied: numpy>=1.15 in /Users/donghyuk/opt/anaconda3/lib/python3.8/site-packages (from matplotlib) (1.19.2)\n",
      "Requirement already satisfied: pyparsing!=2.0.4,!=2.1.2,!=2.1.6,>=2.0.3 in /Users/donghyuk/opt/anaconda3/lib/python3.8/site-packages (from matplotlib) (2.4.7)\n",
      "Requirement already satisfied: kiwisolver>=1.0.1 in /Users/donghyuk/opt/anaconda3/lib/python3.8/site-packages (from matplotlib) (1.3.0)\n",
      "Requirement already satisfied: cycler>=0.10 in /Users/donghyuk/opt/anaconda3/lib/python3.8/site-packages (from matplotlib) (0.10.0)\n",
      "Requirement already satisfied: pillow>=6.2.0 in /Users/donghyuk/opt/anaconda3/lib/python3.8/site-packages (from matplotlib) (8.0.1)\n",
      "Requirement already satisfied: certifi>=2020.06.20 in /Users/donghyuk/opt/anaconda3/lib/python3.8/site-packages (from matplotlib) (2020.6.20)\n",
      "Requirement already satisfied: six in /Users/donghyuk/opt/anaconda3/lib/python3.8/site-packages (from cycler>=0.10->matplotlib) (1.15.0)\n"
     ]
    }
   ],
   "source": [
    "# Cell 클릭 후 Shift+Enter로 실행 (Comment는 #으로 시작)\n",
    "\n",
    "# Install necessary packages\n",
    "!pip install numpy\n",
    "!pip install matplotlib"
   ]
  },
  {
   "cell_type": "markdown",
   "metadata": {},
   "source": [
    "## numpy\n",
    "(본 cell은 markdown 형식으로, 더블클릭/Enter로 들어가고 Shift+Enter로 나갈 수 있다. 주석 용으로 사용.)  \n",
    "\n",
    "python에서 과학 컴퓨팅을 하기 위해 사용하는 패키지로 python 라이브러리로 Import 하여 사용."
   ]
  },
  {
   "cell_type": "code",
   "execution_count": 2,
   "metadata": {},
   "outputs": [],
   "source": [
    "# 패키지 사용을 위한 약자 지정\n",
    "\n",
    "import numpy as np\n",
    "import matplotlib.pyplot as plt\n",
    "\n",
    "%matplotlib inline"
   ]
  },
  {
   "cell_type": "markdown",
   "metadata": {},
   "source": [
    "# Lab_1: Perceptron\n",
    "---\n",
    "Perceptron 알고리즘 구현하기\n",
    "아래 이름, 학번을 작성하세요."
   ]
  },
  {
   "cell_type": "code",
   "execution_count": 3,
   "metadata": {},
   "outputs": [],
   "source": [
    "lab1_student_id = '20161640'\n",
    "lab1_student_name = '정동혁'"
   ]
  },
  {
   "cell_type": "markdown",
   "metadata": {},
   "source": [
    "## Practice 1\n",
    "\n",
    "아래의 train_perceptron 알고리즘을 구현하시오."
   ]
  },
  {
   "cell_type": "markdown",
   "metadata": {},
   "source": [
    "```np.random.seed``` \n",
    "\n",
    "random number(난수) 발생을 위한 조건 설정. 괄호 안의 숫자에 따라 난수 생성 방식이 다르게 고정됨\n",
    "\n",
    "(https://docs.scipy.org/doc/numpy-1.15.0/reference/generated/numpy.random.seed.html)\n",
    "\n"
   ]
  },
  {
   "cell_type": "code",
   "execution_count": 4,
   "metadata": {},
   "outputs": [],
   "source": [
    "# Do not change\n",
    "np.random.seed(5)"
   ]
  },
  {
   "cell_type": "markdown",
   "metadata": {},
   "source": [
    "```np.random.multivariate_normal```\n",
    "\n",
    "multivariate normal distribution 으로부터 random sample 을 추출\n",
    "\n",
    "https://numpy.org/doc/stable/reference/random/generated/numpy.random.multivariate_normal.html"
   ]
  },
  {
   "cell_type": "code",
   "execution_count": 5,
   "metadata": {},
   "outputs": [
    {
     "name": "stdout",
     "output_type": "stream",
     "text": [
      "class_zeros: \n",
      "[[-3.83362070e-01 -4.87992399e-01]\n",
      " [-2.36033497e+00 -2.44005350e+00]\n",
      " [-3.58443281e-01  1.41981188e-01]\n",
      " [ 9.91341033e-01  8.04249095e-01]\n",
      " [-1.33086323e-01 -2.37400363e-01]\n",
      " [ 1.21015451e+00  1.14536687e+00]\n",
      " [ 2.58897957e-01  4.49732434e-01]\n",
      " [ 1.75455499e+00  1.53313893e+00]\n",
      " [-1.43057734e+00 -8.43237710e-01]\n",
      " [ 1.39021091e+00  1.59412960e+00]\n",
      " [ 1.10375308e+00  8.32792324e-01]\n",
      " [ 9.27716082e-01  7.94107344e-01]\n",
      " [-1.09654919e+00 -8.71261800e-01]\n",
      " [-9.55767122e-04 -1.15844755e-01]\n",
      " [ 1.35016013e-02 -1.99965457e-02]\n",
      " [-6.83217166e-01 -8.82937652e-01]\n",
      " [ 2.20971746e-02 -9.86321054e-03]\n",
      " [ 1.22453888e-02  9.10549322e-02]\n",
      " [-4.06231793e-01  1.58843897e-02]\n",
      " [-1.61117147e-01  3.32682722e-01]] \n",
      "class_ones: \n",
      "[[ 1.42499215  5.16332788]\n",
      " [ 0.80577228  5.00045395]\n",
      " [ 0.38687635  5.09451383]\n",
      " [-0.23119307  4.03962309]\n",
      " [ 1.35103223  5.29592348]\n",
      " [-0.41995562  3.70123025]\n",
      " [ 2.44950645  6.07181602]\n",
      " [ 1.23989017  5.87097871]\n",
      " [ 0.48411129  5.72202275]\n",
      " [ 0.33430386  4.40266337]\n",
      " [ 1.15280434  5.68528888]\n",
      " [ 1.45720407  5.00581306]\n",
      " [ 0.45009344  4.45708146]\n",
      " [-0.12344763  3.83624365]\n",
      " [ 3.53418292  7.96653671]\n",
      " [ 2.38454763  7.22735908]\n",
      " [-0.63478515  3.13132013]\n",
      " [ 2.50277891  5.73756995]\n",
      " [ 0.21606     4.10535532]\n",
      " [ 1.64214739  5.50882093]]\n"
     ]
    }
   ],
   "source": [
    "num_data = 20\n",
    "\n",
    "# feature dataset\n",
    "\n",
    "class_zeros = np.random.multivariate_normal(mean=[0, 0], cov=[[1., .95],[.95, 1.]], size=num_data)\n",
    "class_ones = np.random.multivariate_normal(mean=[1, 5], cov=[[1., .85],[.85, 1.]], size=num_data)\n",
    "\n",
    "print(f'class_zeros: \\n{class_zeros} \\nclass_ones: \\n{class_ones}')"
   ]
  },
  {
   "cell_type": "markdown",
   "metadata": {},
   "source": [
    "```np.vstack, np.hstack```\n",
    "\n",
    "배열을 각각 vertically, horizontally stacking 함\n",
    "\n",
    "\n",
    "https://numpy.org/doc/stable/reference/generated/numpy.vstack.html?highlight=vstack#numpy.vstack\n",
    "\n",
    "https://numpy.org/doc/stable/reference/generated/numpy.hstack.html?highlight=hstack#numpy.hstack"
   ]
  },
  {
   "cell_type": "code",
   "execution_count": 6,
   "metadata": {},
   "outputs": [
    {
     "name": "stdout",
     "output_type": "stream",
     "text": [
      "biases: \n",
      "[[1.]\n",
      " [1.]\n",
      " [1.]\n",
      " [1.]\n",
      " [1.]\n",
      " [1.]\n",
      " [1.]\n",
      " [1.]\n",
      " [1.]\n",
      " [1.]\n",
      " [1.]\n",
      " [1.]\n",
      " [1.]\n",
      " [1.]\n",
      " [1.]\n",
      " [1.]\n",
      " [1.]\n",
      " [1.]\n",
      " [1.]\n",
      " [1.]\n",
      " [1.]\n",
      " [1.]\n",
      " [1.]\n",
      " [1.]\n",
      " [1.]\n",
      " [1.]\n",
      " [1.]\n",
      " [1.]\n",
      " [1.]\n",
      " [1.]\n",
      " [1.]\n",
      " [1.]\n",
      " [1.]\n",
      " [1.]\n",
      " [1.]\n",
      " [1.]\n",
      " [1.]\n",
      " [1.]\n",
      " [1.]\n",
      " [1.]] \n",
      "class_data: \n",
      "[[-3.8336208e-01 -4.8799241e-01]\n",
      " [-2.3603349e+00 -2.4400535e+00]\n",
      " [-3.5844329e-01  1.4198118e-01]\n",
      " [ 9.9134105e-01  8.0424911e-01]\n",
      " [-1.3308632e-01 -2.3740037e-01]\n",
      " [ 1.2101545e+00  1.1453669e+00]\n",
      " [ 2.5889796e-01  4.4973242e-01]\n",
      " [ 1.7545550e+00  1.5331390e+00]\n",
      " [-1.4305774e+00 -8.4323770e-01]\n",
      " [ 1.3902109e+00  1.5941296e+00]\n",
      " [ 1.1037531e+00  8.3279234e-01]\n",
      " [ 9.2771608e-01  7.9410732e-01]\n",
      " [-1.0965492e+00 -8.7126178e-01]\n",
      " [-9.5576711e-04 -1.1584476e-01]\n",
      " [ 1.3501601e-02 -1.9996546e-02]\n",
      " [-6.8321717e-01 -8.8293767e-01]\n",
      " [ 2.2097174e-02 -9.8632108e-03]\n",
      " [ 1.2245389e-02  9.1054931e-02]\n",
      " [-4.0623179e-01  1.5884390e-02]\n",
      " [-1.6111715e-01  3.3268273e-01]\n",
      " [ 1.4249922e+00  5.1633277e+00]\n",
      " [ 8.0577230e-01  5.0004539e+00]\n",
      " [ 3.8687634e-01  5.0945139e+00]\n",
      " [-2.3119307e-01  4.0396233e+00]\n",
      " [ 1.3510323e+00  5.2959237e+00]\n",
      " [-4.1995561e-01  3.7012303e+00]\n",
      " [ 2.4495065e+00  6.0718160e+00]\n",
      " [ 1.2398902e+00  5.8709788e+00]\n",
      " [ 4.8411128e-01  5.7220225e+00]\n",
      " [ 3.3430386e-01  4.4026632e+00]\n",
      " [ 1.1528044e+00  5.6852889e+00]\n",
      " [ 1.4572041e+00  5.0058131e+00]\n",
      " [ 4.5009345e-01  4.4570813e+00]\n",
      " [-1.2344763e-01  3.8362436e+00]\n",
      " [ 3.5341830e+00  7.9665365e+00]\n",
      " [ 2.3845477e+00  7.2273593e+00]\n",
      " [-6.3478518e-01  3.1313202e+00]\n",
      " [ 2.5027790e+00  5.7375698e+00]\n",
      " [ 2.1606000e-01  4.1053553e+00]\n",
      " [ 1.6421474e+00  5.5088210e+00]] \n",
      "features: \n",
      "[[ 1.00000000e+00 -3.83362085e-01 -4.87992406e-01]\n",
      " [ 1.00000000e+00 -2.36033487e+00 -2.44005346e+00]\n",
      " [ 1.00000000e+00 -3.58443290e-01  1.41981184e-01]\n",
      " [ 1.00000000e+00  9.91341054e-01  8.04249108e-01]\n",
      " [ 1.00000000e+00 -1.33086324e-01 -2.37400368e-01]\n",
      " [ 1.00000000e+00  1.21015453e+00  1.14536691e+00]\n",
      " [ 1.00000000e+00  2.58897960e-01  4.49732423e-01]\n",
      " [ 1.00000000e+00  1.75455499e+00  1.53313899e+00]\n",
      " [ 1.00000000e+00 -1.43057740e+00 -8.43237698e-01]\n",
      " [ 1.00000000e+00  1.39021087e+00  1.59412956e+00]\n",
      " [ 1.00000000e+00  1.10375309e+00  8.32792342e-01]\n",
      " [ 1.00000000e+00  9.27716076e-01  7.94107318e-01]\n",
      " [ 1.00000000e+00 -1.09654915e+00 -8.71261775e-01]\n",
      " [ 1.00000000e+00 -9.55767115e-04 -1.15844756e-01]\n",
      " [ 1.00000000e+00  1.35016013e-02 -1.99965462e-02]\n",
      " [ 1.00000000e+00 -6.83217168e-01 -8.82937670e-01]\n",
      " [ 1.00000000e+00  2.20971741e-02 -9.86321084e-03]\n",
      " [ 1.00000000e+00  1.22453887e-02  9.10549313e-02]\n",
      " [ 1.00000000e+00 -4.06231791e-01  1.58843901e-02]\n",
      " [ 1.00000000e+00 -1.61117151e-01  3.32682729e-01]\n",
      " [ 1.00000000e+00  1.42499220e+00  5.16332769e+00]\n",
      " [ 1.00000000e+00  8.05772305e-01  5.00045395e+00]\n",
      " [ 1.00000000e+00  3.86876345e-01  5.09451389e+00]\n",
      " [ 1.00000000e+00 -2.31193066e-01  4.03962326e+00]\n",
      " [ 1.00000000e+00  1.35103226e+00  5.29592371e+00]\n",
      " [ 1.00000000e+00 -4.19955611e-01  3.70123029e+00]\n",
      " [ 1.00000000e+00  2.44950652e+00  6.07181597e+00]\n",
      " [ 1.00000000e+00  1.23989022e+00  5.87097883e+00]\n",
      " [ 1.00000000e+00  4.84111279e-01  5.72202253e+00]\n",
      " [ 1.00000000e+00  3.34303856e-01  4.40266323e+00]\n",
      " [ 1.00000000e+00  1.15280437e+00  5.68528891e+00]\n",
      " [ 1.00000000e+00  1.45720410e+00  5.00581312e+00]\n",
      " [ 1.00000000e+00  4.50093448e-01  4.45708132e+00]\n",
      " [ 1.00000000e+00 -1.23447627e-01  3.83624363e+00]\n",
      " [ 1.00000000e+00  3.53418303e+00  7.96653652e+00]\n",
      " [ 1.00000000e+00  2.38454771e+00  7.22735929e+00]\n",
      " [ 1.00000000e+00 -6.34785175e-01  3.13132024e+00]\n",
      " [ 1.00000000e+00  2.50277901e+00  5.73756981e+00]\n",
      " [ 1.00000000e+00  2.16059998e-01  4.10535526e+00]\n",
      " [ 1.00000000e+00  1.64214742e+00  5.50882101e+00]]\n",
      "biases.shape: \n",
      "(40, 1) \n",
      "class_data.shape: \n",
      "(40, 2) \n",
      "features.shape: \n",
      "(40, 3)\n"
     ]
    }
   ],
   "source": [
    "biases = np.ones((2 * num_data, 1))\n",
    "\n",
    "class_data = np.vstack((class_zeros, class_ones)).astype(np.float32)\n",
    "\n",
    "features = np.hstack((biases, class_data))\n",
    "\n",
    "print(f'biases: \\n{biases} \\nclass_data: \\n{class_data} \\nfeatures: \\n{features}')\n",
    "print(f'biases.shape: \\n{biases.shape} \\nclass_data.shape: \\n{class_data.shape} \\\n",
    "\\nfeatures.shape: \\n{features.shape}')"
   ]
  },
  {
   "cell_type": "code",
   "execution_count": 7,
   "metadata": {},
   "outputs": [
    {
     "name": "stdout",
     "output_type": "stream",
     "text": [
      "labels: \n",
      "[[0.]\n",
      " [0.]\n",
      " [0.]\n",
      " [0.]\n",
      " [0.]\n",
      " [0.]\n",
      " [0.]\n",
      " [0.]\n",
      " [0.]\n",
      " [0.]\n",
      " [0.]\n",
      " [0.]\n",
      " [0.]\n",
      " [0.]\n",
      " [0.]\n",
      " [0.]\n",
      " [0.]\n",
      " [0.]\n",
      " [0.]\n",
      " [0.]\n",
      " [1.]\n",
      " [1.]\n",
      " [1.]\n",
      " [1.]\n",
      " [1.]\n",
      " [1.]\n",
      " [1.]\n",
      " [1.]\n",
      " [1.]\n",
      " [1.]\n",
      " [1.]\n",
      " [1.]\n",
      " [1.]\n",
      " [1.]\n",
      " [1.]\n",
      " [1.]\n",
      " [1.]\n",
      " [1.]\n",
      " [1.]\n",
      " [1.]] \n",
      "dataset: \n",
      "[[ 1.00000000e+00 -3.83362085e-01 -4.87992406e-01  0.00000000e+00]\n",
      " [ 1.00000000e+00 -2.36033487e+00 -2.44005346e+00  0.00000000e+00]\n",
      " [ 1.00000000e+00 -3.58443290e-01  1.41981184e-01  0.00000000e+00]\n",
      " [ 1.00000000e+00  9.91341054e-01  8.04249108e-01  0.00000000e+00]\n",
      " [ 1.00000000e+00 -1.33086324e-01 -2.37400368e-01  0.00000000e+00]\n",
      " [ 1.00000000e+00  1.21015453e+00  1.14536691e+00  0.00000000e+00]\n",
      " [ 1.00000000e+00  2.58897960e-01  4.49732423e-01  0.00000000e+00]\n",
      " [ 1.00000000e+00  1.75455499e+00  1.53313899e+00  0.00000000e+00]\n",
      " [ 1.00000000e+00 -1.43057740e+00 -8.43237698e-01  0.00000000e+00]\n",
      " [ 1.00000000e+00  1.39021087e+00  1.59412956e+00  0.00000000e+00]\n",
      " [ 1.00000000e+00  1.10375309e+00  8.32792342e-01  0.00000000e+00]\n",
      " [ 1.00000000e+00  9.27716076e-01  7.94107318e-01  0.00000000e+00]\n",
      " [ 1.00000000e+00 -1.09654915e+00 -8.71261775e-01  0.00000000e+00]\n",
      " [ 1.00000000e+00 -9.55767115e-04 -1.15844756e-01  0.00000000e+00]\n",
      " [ 1.00000000e+00  1.35016013e-02 -1.99965462e-02  0.00000000e+00]\n",
      " [ 1.00000000e+00 -6.83217168e-01 -8.82937670e-01  0.00000000e+00]\n",
      " [ 1.00000000e+00  2.20971741e-02 -9.86321084e-03  0.00000000e+00]\n",
      " [ 1.00000000e+00  1.22453887e-02  9.10549313e-02  0.00000000e+00]\n",
      " [ 1.00000000e+00 -4.06231791e-01  1.58843901e-02  0.00000000e+00]\n",
      " [ 1.00000000e+00 -1.61117151e-01  3.32682729e-01  0.00000000e+00]\n",
      " [ 1.00000000e+00  1.42499220e+00  5.16332769e+00  1.00000000e+00]\n",
      " [ 1.00000000e+00  8.05772305e-01  5.00045395e+00  1.00000000e+00]\n",
      " [ 1.00000000e+00  3.86876345e-01  5.09451389e+00  1.00000000e+00]\n",
      " [ 1.00000000e+00 -2.31193066e-01  4.03962326e+00  1.00000000e+00]\n",
      " [ 1.00000000e+00  1.35103226e+00  5.29592371e+00  1.00000000e+00]\n",
      " [ 1.00000000e+00 -4.19955611e-01  3.70123029e+00  1.00000000e+00]\n",
      " [ 1.00000000e+00  2.44950652e+00  6.07181597e+00  1.00000000e+00]\n",
      " [ 1.00000000e+00  1.23989022e+00  5.87097883e+00  1.00000000e+00]\n",
      " [ 1.00000000e+00  4.84111279e-01  5.72202253e+00  1.00000000e+00]\n",
      " [ 1.00000000e+00  3.34303856e-01  4.40266323e+00  1.00000000e+00]\n",
      " [ 1.00000000e+00  1.15280437e+00  5.68528891e+00  1.00000000e+00]\n",
      " [ 1.00000000e+00  1.45720410e+00  5.00581312e+00  1.00000000e+00]\n",
      " [ 1.00000000e+00  4.50093448e-01  4.45708132e+00  1.00000000e+00]\n",
      " [ 1.00000000e+00 -1.23447627e-01  3.83624363e+00  1.00000000e+00]\n",
      " [ 1.00000000e+00  3.53418303e+00  7.96653652e+00  1.00000000e+00]\n",
      " [ 1.00000000e+00  2.38454771e+00  7.22735929e+00  1.00000000e+00]\n",
      " [ 1.00000000e+00 -6.34785175e-01  3.13132024e+00  1.00000000e+00]\n",
      " [ 1.00000000e+00  2.50277901e+00  5.73756981e+00  1.00000000e+00]\n",
      " [ 1.00000000e+00  2.16059998e-01  4.10535526e+00  1.00000000e+00]\n",
      " [ 1.00000000e+00  1.64214742e+00  5.50882101e+00  1.00000000e+00]]\n"
     ]
    }
   ],
   "source": [
    "# Label dataset\n",
    "\n",
    "label_zeros = np.zeros((num_data, 1))\n",
    "label_ones = np.ones((num_data, 1))\n",
    "\n",
    "labels = np.vstack((label_zeros, label_ones))\n",
    "dataset = np.hstack((features,labels))\n",
    "\n",
    "print(f'labels: \\n{labels} \\ndataset: \\n{dataset}')"
   ]
  },
  {
   "cell_type": "code",
   "execution_count": 8,
   "metadata": {},
   "outputs": [
    {
     "data": {
      "image/png": "[encoded data removed]",
      "text/plain": [
       "<Figure size 432x288 with 1 Axes>"
      ]
     },
     "metadata": {
      "needs_background": "light"
     },
     "output_type": "display_data"
    }
   ],
   "source": [
    "plt.scatter(features[:, 1][:num_data], features[:, 2][:num_data], c = 'r', label='0')\n",
    "plt.scatter(features[:, 1][num_data:], features[:, 2][num_data:], c = 'b', label='1')\n",
    "\n",
    "plt.legend()\n",
    "plt.show()"
   ]
  },
  {
   "cell_type": "code",
   "execution_count": 9,
   "metadata": {},
   "outputs": [
    {
     "name": "stdout",
     "output_type": "stream",
     "text": [
      "(28, 4) (12, 4)\n"
     ]
    }
   ],
   "source": [
    "# dataset shuffling\n",
    "np.random.shuffle(dataset)\n",
    "\n",
    "split_ratio = 0.7\n",
    "\n",
    "# splitting dataset\n",
    "train = dataset[0:int(split_ratio * (num_data * 2))]\n",
    "test = dataset[int(split_ratio * (num_data * 2)):(num_data * 2)]\n",
    "\n",
    "print(train.shape, test.shape)"
   ]
  },
  {
   "cell_type": "code",
   "execution_count": 10,
   "metadata": {},
   "outputs": [
    {
     "name": "stdout",
     "output_type": "stream",
     "text": [
      "(28, 3) (28,)\n",
      "(12, 3) (12,)\n"
     ]
    }
   ],
   "source": [
    "# reshaping data\n",
    "x_train = train[:, 0:3]\n",
    "y_train = train[:, 3]\n",
    "\n",
    "x_test = test[:, 0:3]\n",
    "y_test = test[:, 3]\n",
    "\n",
    "print(x_train.shape, y_train.shape)\n",
    "print(x_test.shape, y_test.shape)"
   ]
  },
  {
   "cell_type": "code",
   "execution_count": 11,
   "metadata": {},
   "outputs": [
    {
     "name": "stdout",
     "output_type": "stream",
     "text": [
      "[ 1.         -0.12344763  3.83624363]\n",
      "1.0\n"
     ]
    }
   ],
   "source": [
    "print(x_train[0])\n",
    "print(y_train[0])"
   ]
  },
  {
   "cell_type": "code",
   "execution_count": 12,
   "metadata": {},
   "outputs": [
    {
     "name": "stdout",
     "output_type": "stream",
     "text": [
      "x_train.shape : (28, 3)\n",
      "y_train.shape : (28,)\n"
     ]
    }
   ],
   "source": [
    "# Todo: practice 1\n",
    "def train_perceptron(w, x, y, epoch=30):\n",
    "    for i in range(epoch): # epoch만큼 학습을 반복한다.\n",
    "        for j in range(x.shape[0]): # x.shpae[0]개 만큼 loop\n",
    "            f = np.dot(x[j], w) # (1, 3)dot(3,1)을 통해 (1,1)의 f값 생성 \n",
    "            if f < 0:\n",
    "                y_hat = 0 # f(x*w)가 음수일 경우 예측값 y_hat은 0\n",
    "            else:\n",
    "                y_hat = 1 # f(x*w)가 양수일 경우 예측값 y_hat은 1\n",
    "            for k in range(len(w)):\n",
    "                w[k] = w[k] + (y[j]-y_hat)*x[j][k]\n",
    "                # w행렬에 (y-y_hat) * x를 더해 줌으로써 예측을 실패할 경우(y!=y_hat) 가중치 w를 업데이트 해준다.\n",
    "            \n",
    "    return w\n",
    "\n",
    "print('x_train.shape : ' + str(x_train.shape))\n",
    "print('y_train.shape : ' + str(y_train.shape))"
   ]
  },
  {
   "cell_type": "code",
   "execution_count": 13,
   "metadata": {},
   "outputs": [],
   "source": [
    "# w 와 x1 을 이용해 x2 값을 구함\n",
    "\n",
    "def x2(x1, w):\n",
    "    w0 = w[0]\n",
    "    w1 = w[1]\n",
    "    w2 = w[2]\n",
    "    x2 = []\n",
    "    for i in range(len(x1 - 1)):\n",
    "        x2_temp = (-w0 -w1 * x1[i]) / w2\n",
    "        x2.append(x2_temp)\n",
    "    return x2\n",
    "\n",
    "# visualizaing decision boundary\n",
    "\n",
    "def show_plt(w, class_data, labels):\n",
    "#   w and class_data are 2-element with no bias, and 3-element with bias\n",
    "    len_w = len(w)\n",
    "    sh_data = class_data.shape\n",
    "    if len_w != sh_data[1]:\n",
    "        print('error: w and data dimension does not match')\n",
    "        return\n",
    "    \n",
    "    if len_w == 3:\n",
    "        class_data = class_data[:,1:]\n",
    "        \n",
    "    min = np.min(class_data[:, 0])\n",
    "    max = np.max(class_data[:, 0])\n",
    "    \n",
    "    x1 = np.linspace(min, max, 100)\n",
    "    x1 = x1.reshape(len(x1),1)\n",
    "    x_2 = np.asarray(x2(x1, w))\n",
    "    \n",
    "    data_zeros = class_data[labels == 0]\n",
    "    data_ones = class_data[labels == 1]\n",
    "    \n",
    "    plt.scatter(data_zeros[:, 0], data_zeros[:, 1], c = 'r', label='0')\n",
    "    plt.scatter(data_ones[:, 0], data_ones[:, 1], c = 'b', label='1')\n",
    "    plt.plot(x1, x_2)\n",
    "\n",
    "    plt.legend()\n",
    "    plt.show()\n",
    "    "
   ]
  },
  {
   "cell_type": "code",
   "execution_count": 14,
   "metadata": {},
   "outputs": [
    {
     "data": {
      "image/png": "[encoded data removed]",
      "text/plain": [
       "<Figure size 432x288 with 1 Axes>"
      ]
     },
     "metadata": {
      "needs_background": "light"
     },
     "output_type": "display_data"
    }
   ],
   "source": [
    "w = np.random.rand(len(x_train[0]))\n",
    "\n",
    "\n",
    "show_plt(w, x_train, y_train)"
   ]
  },
  {
   "cell_type": "code",
   "execution_count": 15,
   "metadata": {},
   "outputs": [
    {
     "name": "stdout",
     "output_type": "stream",
     "text": [
      "The weights are: [-4.17999874 -2.51296967  3.05589424]\n"
     ]
    }
   ],
   "source": [
    "w = train_perceptron(w, x_train, y_train)\n",
    "\n",
    "print(\"The weights are:\", w)\n",
    "\n",
    "# Do not change\n",
    "lab1_student_answer_w = w"
   ]
  },
  {
   "cell_type": "code",
   "execution_count": 16,
   "metadata": {},
   "outputs": [
    {
     "data": {
      "image/png": "[encoded data removed]",
      "text/plain": [
       "<Figure size 432x288 with 1 Axes>"
      ]
     },
     "metadata": {
      "needs_background": "light"
     },
     "output_type": "display_data"
    }
   ],
   "source": [
    "show_plt(w, x_train, y_train)"
   ]
  },
  {
   "cell_type": "code",
   "execution_count": 17,
   "metadata": {},
   "outputs": [
    {
     "data": {
      "image/png": "[encoded data removed]",
      "text/plain": [
       "<Figure size 432x288 with 1 Axes>"
      ]
     },
     "metadata": {
      "needs_background": "light"
     },
     "output_type": "display_data"
    }
   ],
   "source": [
    "show_plt(w, x_test, y_test)"
   ]
  },
  {
   "cell_type": "markdown",
   "metadata": {},
   "source": [
    "## Practice 2\n",
    "\n",
    "hyperplane이 구해지는 최소 epoch를 출력할 수 있도록 train_perceptron 코드를 수정하시오."
   ]
  },
  {
   "cell_type": "code",
   "execution_count": 18,
   "metadata": {},
   "outputs": [
    {
     "data": {
      "image/png": "[encoded data removed]",
      "text/plain": [
       "<Figure size 432x288 with 1 Axes>"
      ]
     },
     "metadata": {
      "needs_background": "light"
     },
     "output_type": "display_data"
    }
   ],
   "source": [
    "num_data = 1000\n",
    "\n",
    "class_zeros = np.random.multivariate_normal(mean=[0,0], cov=[[1.,.95],[.95,1.]], size=num_data)\n",
    "class_ones = np.random.multivariate_normal(mean=[1,5], cov=[[1.,.85],[.85,1.]], size=num_data)\n",
    "\n",
    "biases = np.ones((2 * num_data, 1))\n",
    "\n",
    "class_data = np.vstack((class_zeros, class_ones)).astype(np.float32)\n",
    "\n",
    "features = np.hstack((biases, class_data))\n",
    "\n",
    "label_zeros = np.zeros((num_data, 1))\n",
    "label_ones = np.ones((num_data, 1))\n",
    "\n",
    "labels = np.vstack((label_zeros, label_ones))\n",
    "dataset = np.hstack((features,labels))\n",
    "\n",
    "plt.scatter(features[:, 1][:num_data], features[:, 2][:num_data], c = 'r', label='0')\n",
    "plt.scatter(features[:, 1][num_data:], features[:, 2][num_data:], c = 'b', label='1')\n",
    "\n",
    "plt.legend()\n",
    "plt.show()"
   ]
  },
  {
   "cell_type": "code",
   "execution_count": 19,
   "metadata": {},
   "outputs": [
    {
     "name": "stdout",
     "output_type": "stream",
     "text": [
      "x_train shape : (1400, 3)\n",
      "y_train shape : (1400,)\n"
     ]
    }
   ],
   "source": [
    "np.random.shuffle(dataset)\n",
    "\n",
    "split_ratio = 0.7\n",
    "\n",
    "train = dataset[0:int(split_ratio * (num_data * 2))]\n",
    "test = dataset[int(split_ratio * (num_data * 2)):(num_data * 2)]\n",
    "\n",
    "x_train = train[:, 0:3]\n",
    "y_train = train[:, 3]\n",
    "\n",
    "x_test = test[:, 0:3]\n",
    "y_test = test[:, 3]\n",
    "\n",
    "print('x_train shape : ' + str(x_train.shape))\n",
    "print('y_train shape : ' + str(y_train.shape))\n",
    "\n",
    "# Todo: practice 2\n",
    "def train_perceptron(w, x, y, epoch=30):\n",
    "    min_epoch = epoch # min_epoch값을 초기 epoch값으로 설정\n",
    "    \n",
    "    for i in range(epoch):\n",
    "        l = 0 # 가중치 w를 업데이트 한 횟수\n",
    "        for j in range(x.shape[0]): # x.shpae[0]개 만큼 loop\n",
    "            f = np.dot(x[j], w) # (1, 3)dot(3,1)을 통해 (1,1)의 f값 생성 \n",
    "            if f < 0:\n",
    "                y_hat = 0 # f(x*w)가 음수일 경우 예측값 y_hat은 0\n",
    "            else:\n",
    "                y_hat = 1 # f(x*w)가 양수일 경우 예측값 y_hat은 1\n",
    "            for k in range(len(w)):\n",
    "                if y[j] != y_hat :\n",
    "                    w[k] = w[k] + (y[j]-y_hat)*x[j][k] \n",
    "                    # w행렬에 (y-y_hat) * x를 더해 줌으로써 예측을 실패할 경우(y!=y_hat) 가중치 w를 업데이트 해준다.\n",
    "                    l = l+1\n",
    "                    # w가 업데이트 된 경우, 업데이트 횟수 증가 \n",
    "        \n",
    "        if(l == 0) : # 업데이트가 한번도 되지 않았으면\n",
    "            min_epoch = min(min_epoch, i+1) # min_epoch값 저장\n",
    "    return w, min_epoch"
   ]
  },
  {
   "cell_type": "code",
   "execution_count": 20,
   "metadata": {},
   "outputs": [
    {
     "data": {
      "image/png": "[encoded data removed]",
      "text/plain": [
       "<Figure size 432x288 with 1 Axes>"
      ]
     },
     "metadata": {
      "needs_background": "light"
     },
     "output_type": "display_data"
    }
   ],
   "source": [
    "w = np.random.rand(len(x_train[0]))\n",
    "\n",
    "show_plt(w, x_train, y_train)"
   ]
  },
  {
   "cell_type": "code",
   "execution_count": 21,
   "metadata": {},
   "outputs": [
    {
     "name": "stdout",
     "output_type": "stream",
     "text": [
      "The weights are: [-6.62826666 -4.47665528  5.42338053]\n"
     ]
    },
    {
     "data": {
      "image/png": "[encoded data removed]",
      "text/plain": [
       "<Figure size 432x288 with 1 Axes>"
      ]
     },
     "metadata": {
      "needs_background": "light"
     },
     "output_type": "display_data"
    }
   ],
   "source": [
    "w, min_epoch = train_perceptron(w, x_train, y_train)\n",
    "\n",
    "print(\"The weights are:\", w)\n",
    "\n",
    "# Do not change -->\n",
    "lab1_student_answer_w2 = w\n",
    "lab1_stduent_answer_min_epoch = min_epoch\n",
    "# <--\n",
    "show_plt(w, x_train, y_train)"
   ]
  },
  {
   "cell_type": "code",
   "execution_count": 22,
   "metadata": {},
   "outputs": [
    {
     "data": {
      "image/png": "[encoded data removed]",
      "text/plain": [
       "<Figure size 432x288 with 1 Axes>"
      ]
     },
     "metadata": {
      "needs_background": "light"
     },
     "output_type": "display_data"
    }
   ],
   "source": [
    "show_plt(w, x_test, y_test)"
   ]
  },
  {
   "cell_type": "markdown",
   "metadata": {},
   "source": [
    "## Practice 3\n",
    "\n",
    "hyperplane이 구해지는 최소 epoch를 줄일 수 있도록 train_perceptron 코드를 수정하시오."
   ]
  },
  {
   "cell_type": "code",
   "execution_count": 23,
   "metadata": {},
   "outputs": [],
   "source": [
    "# Todo: practice 3\n",
    "def train_perceptron(w, x, y, epoch=30):\n",
    "    min_epoch = epoch # min_epoch값을 초기 epoch값으로 설정\n",
    "    \n",
    "    for i in range(epoch):\n",
    "        l = 0 # 가중치 w를 업데이트 한 횟수\n",
    "        for j in range(x.shape[0]): # x.shpae[0]개 만큼 loop\n",
    "            f = np.dot(x[j], w) # (1, 3)dot(3,1)을 통해 (1,1)의 f값 생성 \n",
    "            if f < 0:\n",
    "                y_hat = 0 # f(x*w)가 음수일 경우 예측값 y_hat은 0\n",
    "            else:\n",
    "                y_hat = 1 # f(x*w)가 양수일 경우 예측값 y_hat은 1\n",
    "            for k in range(len(w)):\n",
    "                if y[j] != y_hat :\n",
    "                    w[k] = w[k] + 0.00123 * (y[j]-y_hat)*x[j][k] \n",
    "                    # w행렬에 (y-y_hat) * x를 더해 줌으로써 예측을 실패할 경우(y!=y_hat) 가중치 w를 업데이트 해준다.\n",
    "                    l = l+1\n",
    "                    # w가 업데이트 된 경우, 업데이트 횟수 증가 \n",
    "        \n",
    "        if(l == 0) : # 업데이트가 한번도 되지 않았으면\n",
    "            min_epoch = min(min_epoch, i+1) # min_epoch값 저장\n",
    "            i = epoch # i값을 epoch값으로 설정해줌으로써 가장 outer loop 종료\n",
    "    return w, min_epoch"
   ]
  },
  {
   "cell_type": "code",
   "execution_count": 24,
   "metadata": {},
   "outputs": [
    {
     "data": {
      "image/png": "[encoded data removed]",
      "text/plain": [
       "<Figure size 432x288 with 1 Axes>"
      ]
     },
     "metadata": {
      "needs_background": "light"
     },
     "output_type": "display_data"
    }
   ],
   "source": [
    "w = np.random.rand(len(x_train[0]))\n",
    "\n",
    "show_plt(w, x_train, y_train)"
   ]
  },
  {
   "cell_type": "code",
   "execution_count": 25,
   "metadata": {},
   "outputs": [
    {
     "name": "stdout",
     "output_type": "stream",
     "text": [
      "The weights are: [-0.30520953 -0.31979922  0.3252329 ]\n"
     ]
    },
    {
     "data": {
      "image/png": "[encoded data removed]",
      "text/plain": [
       "<Figure size 432x288 with 1 Axes>"
      ]
     },
     "metadata": {
      "needs_background": "light"
     },
     "output_type": "display_data"
    }
   ],
   "source": [
    "w, min_epoch = train_perceptron(w, x_train, y_train)\n",
    "\n",
    "print(\"The weights are:\", w)\n",
    "\n",
    "# Do not change -->\n",
    "lab1_student_answer_w3 = w\n",
    "lab1_stduent_answer_min_epoch3 = min_epoch\n",
    "# <--\n",
    "show_plt(w, x_train, y_train)"
   ]
  },
  {
   "cell_type": "code",
   "execution_count": 26,
   "metadata": {},
   "outputs": [
    {
     "data": {
      "image/png": "[encoded data removed]",
      "text/plain": [
       "<Figure size 432x288 with 1 Axes>"
      ]
     },
     "metadata": {
      "needs_background": "light"
     },
     "output_type": "display_data"
    }
   ],
   "source": [
    "show_plt(w, x_test, y_test)"
   ]
  },
  {
   "cell_type": "markdown",
   "metadata": {},
   "source": [
    "수고하셨습니다. \n",
    "\n",
    "조교메일: cvipsj@sogang.ac.kr"
   ]
  },
  {
   "cell_type": "markdown",
   "metadata": {},
   "source": [
    "# 정답 확인용\n",
    "\n",
    "수정금지 - 조교"
   ]
  },
  {
   "cell_type": "code",
   "execution_count": 27,
   "metadata": {},
   "outputs": [
    {
     "name": "stdout",
     "output_type": "stream",
     "text": [
      "학번: 20161640\n",
      "이름: 정동혁\n"
     ]
    }
   ],
   "source": [
    "print(f'학번: {lab1_student_id}')\n",
    "print(f'이름: {lab1_student_name}')"
   ]
  },
  {
   "cell_type": "code",
   "execution_count": 28,
   "metadata": {},
   "outputs": [
    {
     "name": "stdout",
     "output_type": "stream",
     "text": [
      "Answer of practice 1: True\n"
     ]
    }
   ],
   "source": [
    "print(f'Answer of practice 1: {abs(sum(lab1_student_answer_w - [-4.179, -2.512, 3.055])) < 0.01}')"
   ]
  },
  {
   "cell_type": "code",
   "execution_count": 29,
   "metadata": {},
   "outputs": [
    {
     "name": "stdout",
     "output_type": "stream",
     "text": [
      "Answer of practice 2: True\n",
      "Min epochs at practice 2: 2\n"
     ]
    }
   ],
   "source": [
    "print(f'Answer of practice 2: {abs(sum(lab1_student_answer_w2 - [-6.628, -4.476, 5.423])) < 0.01}')\n",
    "print(f'Min epochs at practice 2: {lab1_stduent_answer_min_epoch}')"
   ]
  },
  {
   "cell_type": "code",
   "execution_count": 30,
   "metadata": {},
   "outputs": [
    {
     "name": "stdout",
     "output_type": "stream",
     "text": [
      "Answer of practice 2: [-0.30520953 -0.31979922  0.3252329 ]\n",
      "Min epochs at practice 2: 19\n"
     ]
    }
   ],
   "source": [
    "print(f'Answer of practice 2: {lab1_student_answer_w3}')\n",
    "print(f'Min epochs at practice 2: {lab1_stduent_answer_min_epoch3}')"
   ]
  },
  {
   "cell_type": "code",
   "execution_count": null,
   "metadata": {},
   "outputs": [],
   "source": []
  }
 ],
 "metadata": {
  "kernelspec": {
   "display_name": "Python 3",
   "language": "python",
   "name": "python3"
  },
  "language_info": {
   "codemirror_mode": {
    "name": "ipython",
    "version": 3
   },
   "file_extension": ".py",
   "mimetype": "text/x-python",
   "name": "python",
   "nbconvert_exporter": "python",
   "pygments_lexer": "ipython3",
   "version": "3.8.5"
  }
 },
 "nbformat": 4,
 "nbformat_minor": 5
}
